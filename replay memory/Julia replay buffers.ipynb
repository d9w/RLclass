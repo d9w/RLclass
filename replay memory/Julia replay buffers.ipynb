{
 "cells": [
  {
   "cell_type": "code",
   "execution_count": 1,
   "metadata": {},
   "outputs": [
    {
     "name": "stderr",
     "output_type": "stream",
     "text": [
      "┌ Info: Precompiling PyCall [438e738f-606a-5dbb-bf0a-cddfbfd45ab0]\n",
      "└ @ Base loading.jl:1273\n"
     ]
    }
   ],
   "source": [
    "using PyCall"
   ]
  },
  {
   "cell_type": "code",
   "execution_count": 2,
   "metadata": {},
   "outputs": [
    {
     "data": {
      "text/plain": [
       "PyObject <module 'gym' from '/home/d9w/.julia/conda/3/lib/python3.7/site-packages/gym/__init__.py'>"
      ]
     },
     "execution_count": 2,
     "metadata": {},
     "output_type": "execute_result"
    }
   ],
   "source": [
    "gym = pyimport(\"gym\")"
   ]
  },
  {
   "cell_type": "code",
   "execution_count": 3,
   "metadata": {},
   "outputs": [
    {
     "data": {
      "text/plain": [
       "PyObject <TimeLimit<CartPoleEnv<CartPole-v1>>>"
      ]
     },
     "execution_count": 3,
     "metadata": {},
     "output_type": "execute_result"
    }
   ],
   "source": [
    "cartpole = gym.make(\"CartPole-v1\")"
   ]
  },
  {
   "cell_type": "code",
   "execution_count": 4,
   "metadata": {},
   "outputs": [
    {
     "data": {
      "text/plain": [
       "([-0.047999404970835186, 0.19569221823410166, -0.018208187493774175, -0.2824486691725574], 1.0, false, Dict{Any,Any}())"
      ]
     },
     "execution_count": 4,
     "metadata": {},
     "output_type": "execute_result"
    }
   ],
   "source": [
    "state = cartpole.reset()\n",
    "action = cartpole.action_space.sample()\n",
    "next_state, reward, done, _ = cartpole.step(action)"
   ]
  },
  {
   "cell_type": "code",
   "execution_count": 5,
   "metadata": {},
   "outputs": [
    {
     "data": {
      "text/plain": [
       "(Array{Float64,1}, Int64, Float64, Array{Float64,1})"
      ]
     },
     "execution_count": 5,
     "metadata": {},
     "output_type": "execute_result"
    }
   ],
   "source": [
    "typeof(state), typeof(action), typeof(reward), typeof(next_state)"
   ]
  },
  {
   "cell_type": "code",
   "execution_count": 6,
   "metadata": {},
   "outputs": [
    {
     "data": {
      "text/plain": [
       "50"
      ]
     },
     "execution_count": 6,
     "metadata": {},
     "output_type": "execute_result"
    }
   ],
   "source": [
    "replay_buffer_size = Int(1e6)\n",
    "nb_samples = Int(2e6)\n",
    "nb_batches = Int(1e4)\n",
    "batch_size = 50"
   ]
  },
  {
   "cell_type": "code",
   "execution_count": 7,
   "metadata": {},
   "outputs": [],
   "source": [
    "abstract type Buffer end\n",
    "abstract type Transition end"
   ]
  },
  {
   "cell_type": "code",
   "execution_count": 8,
   "metadata": {},
   "outputs": [],
   "source": [
    "struct GoodTransition <: Transition\n",
    "    state::Array{Float64}\n",
    "    action::Int64\n",
    "    reward::Float64\n",
    "    next_state::Array{Float64}\n",
    "end"
   ]
  },
  {
   "cell_type": "code",
   "execution_count": 9,
   "metadata": {},
   "outputs": [],
   "source": [
    "struct BadTransition <: Transition\n",
    "    state\n",
    "    action\n",
    "    reward\n",
    "    next_state\n",
    "end"
   ]
  },
  {
   "cell_type": "code",
   "execution_count": 10,
   "metadata": {},
   "outputs": [
    {
     "data": {
      "text/plain": [
       "BadTransition([-0.048005595216497256, 0.0003095122831035524, -0.01852863128277015, 0.016022189449798746], 1, 1.0, [-0.047999404970835186, 0.19569221823410166, -0.018208187493774175, -0.2824486691725574])"
      ]
     },
     "execution_count": 10,
     "metadata": {},
     "output_type": "execute_result"
    }
   ],
   "source": [
    "t = GoodTransition(state, action, reward, next_state)\n",
    "tbad = BadTransition(state, action, reward, next_state)"
   ]
  },
  {
   "cell_type": "code",
   "execution_count": 11,
   "metadata": {},
   "outputs": [
    {
     "data": {
      "text/plain": [
       "test_sampling_tqdm (generic function with 1 method)"
      ]
     },
     "execution_count": 11,
     "metadata": {},
     "output_type": "execute_result"
    }
   ],
   "source": [
    "tqdm = pyimport(\"tqdm\")\n",
    "\n",
    "function test_insertion_tqdm(buffer::Buffer, nb_samples::Int, transition::Transition)\n",
    "    state = cartpole.reset()\n",
    "    for _ in tqdm.trange(nb_samples)\n",
    "        append(buffer, transition)\n",
    "    end\n",
    "end\n",
    "\n",
    "function test_sampling_tqdm(buffer::Buffer, nb_batches::Int)\n",
    "    for _ in tqdm.trange(nb_batches)\n",
    "        sample(buffer, batch_size)\n",
    "    end\n",
    "end"
   ]
  },
  {
   "cell_type": "code",
   "execution_count": 12,
   "metadata": {},
   "outputs": [
    {
     "data": {
      "text/plain": [
       "test_sampling_timev (generic function with 1 method)"
      ]
     },
     "execution_count": 12,
     "metadata": {},
     "output_type": "execute_result"
    }
   ],
   "source": [
    "function test_insertion_timev(buffer::Buffer, nb_samples::Int, transition::Transition)\n",
    "    println(\"Insertion of \", nb_samples, \" samples:\")\n",
    "    @timev for i in 1:nb_samples\n",
    "        append(buffer, transition)\n",
    "    end\n",
    "end\n",
    "\n",
    "function test_sampling_timev(buffer::Buffer, nb_batches::Int)\n",
    "    println(\"Sampling of \", nb_batches, \" batches:\")\n",
    "    @timev for i in 1:nb_batches\n",
    "        sample(buffer, batch_size)\n",
    "    end\n",
    "end  "
   ]
  },
  {
   "cell_type": "code",
   "execution_count": 13,
   "metadata": {},
   "outputs": [
    {
     "data": {
      "text/plain": [
       "sample (generic function with 1 method)"
      ]
     },
     "execution_count": 13,
     "metadata": {},
     "output_type": "execute_result"
    }
   ],
   "source": [
    "struct ReplayBuffer1 <: Buffer\n",
    "    data::Vector{Transition}\n",
    "    capacity::Int64\n",
    "end\n",
    "\n",
    "function ReplayBuffer1(capacity::Int64)\n",
    "    ReplayBuffer1(Vector{Transition}(undef, 0), capacity)\n",
    "end\n",
    "\n",
    "function append(buffer::ReplayBuffer1, t::Transition)\n",
    "    if length(buffer.data) == buffer.capacity\n",
    "        popfirst!(buffer.data)\n",
    "    end\n",
    "    push!(buffer.data, t)\n",
    "end\n",
    "\n",
    "function sample(buffer::ReplayBuffer1, batch_size::Int)\n",
    "    rand(buffer.data, batch_size)\n",
    "end"
   ]
  },
  {
   "cell_type": "code",
   "execution_count": 14,
   "metadata": {},
   "outputs": [
    {
     "data": {
      "text/plain": [
       "sample (generic function with 2 methods)"
      ]
     },
     "execution_count": 14,
     "metadata": {},
     "output_type": "execute_result"
    }
   ],
   "source": [
    "mutable struct ReplayBuffer2 <: Buffer\n",
    "    data::Vector{Transition}\n",
    "    capacity::Int64\n",
    "    i::Int64\n",
    "    filled::Bool\n",
    "end\n",
    "\n",
    "function ReplayBuffer2(capacity::Int64)\n",
    "    ReplayBuffer2(Vector{Transition}(undef, capacity), capacity, 1, false)\n",
    "end\n",
    "\n",
    "function append(buffer::ReplayBuffer2, t::Transition)\n",
    "    buffer.data[buffer.i] = t\n",
    "    buffer.i += 1\n",
    "    if buffer.i > buffer.capacity\n",
    "        buffer.filled = true\n",
    "        buffer.i = 1\n",
    "    end\n",
    "end\n",
    "\n",
    "function sample(buffer::ReplayBuffer2, batch_size::Int)\n",
    "    if buffer.filled\n",
    "        println\n",
    "        return rand(buffer.data, batch_size)\n",
    "    else\n",
    "        return rand(buffer.data[1:buffer.i-1], batch_size)\n",
    "    end\n",
    "end"
   ]
  },
  {
   "cell_type": "code",
   "execution_count": 15,
   "metadata": {},
   "outputs": [
    {
     "data": {
      "text/plain": [
       "sample (generic function with 3 methods)"
      ]
     },
     "execution_count": 15,
     "metadata": {},
     "output_type": "execute_result"
    }
   ],
   "source": [
    "using DataStructures\n",
    "struct ReplayBuffer3 <: Buffer\n",
    "    data::CircularDeque{Transition}\n",
    "    capacity::Int64\n",
    "end\n",
    "\n",
    "function ReplayBuffer3(capacity::Int64)\n",
    "    ReplayBuffer3(CircularDeque{Transition}(capacity), capacity)\n",
    "end\n",
    "\n",
    "function append(buffer::ReplayBuffer3, t::Transition)\n",
    "    if length(buffer.data) == buffer.capacity\n",
    "        popfirst!(buffer.data)\n",
    "    end\n",
    "    push!(buffer.data, t)\n",
    "end\n",
    "\n",
    "function sample(buffer::ReplayBuffer3, batch_size::Int)\n",
    "    inds = rand(1:buffer.data.n, batch_size)\n",
    "    [buffer.data[i] for i in inds]\n",
    "end"
   ]
  },
  {
   "cell_type": "code",
   "execution_count": 16,
   "metadata": {},
   "outputs": [
    {
     "name": "stdout",
     "output_type": "stream",
     "text": [
      "Insertion of 2000000 samples:\n",
      "  0.033650 seconds (1 allocation: 0 bytes)\n",
      "elapsed time (ns): 33650101\n"
     ]
    },
    {
     "name": "stderr",
     "output_type": "stream",
     "text": [
      "\r",
      "  0%|                                              | 0/2000000 [00:00<?, ?it/s]\r",
      "  3%|▉                             | 60735/2000000 [00:00<00:03, 607347.68it/s]\r",
      "  7%|██                           | 140432/2000000 [00:00<00:02, 654030.24it/s]\r",
      " 12%|███▌                         | 241532/2000000 [00:00<00:02, 731515.70it/s]\r",
      " 15%|████▍                        | 307599/2000000 [00:00<00:02, 708715.48it/s]\r",
      " 20%|█████▊                       | 401406/2000000 [00:00<00:02, 764811.63it/s]\r",
      " 25%|███████▎                     | 502646/2000000 [00:00<00:01, 825365.30it/s]\r",
      " 29%|████████▌                    | 587778/2000000 [00:00<00:01, 796949.95it/s]\r",
      " 35%|██████████▏                  | 700311/2000000 [00:00<00:01, 873409.55it/s]\r",
      " 41%|███████████▊                 | 813838/2000000 [00:00<00:01, 938339.17it/s]\r",
      " 46%|█████████████▎               | 921106/2000000 [00:01<00:01, 974969.30it/s]\r",
      " 51%|██████████████▎             | 1020226/2000000 [00:01<00:01, 835982.30it/s]\r",
      " 56%|███████████████▊            | 1128429/2000000 [00:01<00:00, 897186.60it/s]\r",
      " 62%|█████████████████▎          | 1234129/2000000 [00:01<00:00, 939813.73it/s]\r",
      " 67%|██████████████████▋         | 1331781/2000000 [00:01<00:00, 759615.71it/s]\r",
      " 72%|████████████████████▏       | 1443907/2000000 [00:01<00:00, 840989.31it/s]\r",
      " 78%|█████████████████████▋      | 1553509/2000000 [00:01<00:00, 904099.45it/s]\r",
      " 83%|███████████████████████     | 1651146/2000000 [00:01<00:00, 767217.81it/s]\r",
      " 87%|████████████████████████▍   | 1749753/2000000 [00:02<00:00, 821944.75it/s]\r",
      " 92%|█████████████████████████▉  | 1849747/2000000 [00:02<00:00, 868312.88it/s]\r",
      " 98%|███████████████████████████▍| 1955842/2000000 [00:02<00:00, 852044.80it/s]\r",
      "100%|████████████████████████████| 2000000/2000000 [00:02<00:00, 869812.29it/s]\n",
      "\r",
      "  0%|                                                | 0/10000 [00:00<?, ?it/s]\r",
      "100%|████████████████████████████████| 10000/10000 [00:00<00:00, 358260.93it/s]"
     ]
    },
    {
     "name": "stdout",
     "output_type": "stream",
     "text": [
      "realloc() calls:   1\n",
      "Sampling of 10000 batches:\n",
      "  0.012889 seconds (10.00 k allocations: 4.730 MiB)\n",
      "elapsed time (ns): 12888662\n",
      "bytes allocated:   4960000\n",
      "pool allocs:       10000\n"
     ]
    }
   ],
   "source": [
    "memory = ReplayBuffer1(replay_buffer_size)\n",
    "test_insertion_tqdm(memory, nb_samples, t)\n",
    "test_sampling_tqdm(memory, nb_batches)\n",
    "test_insertion_timev(memory, nb_samples, t)\n",
    "test_sampling_timev(memory, nb_batches)"
   ]
  },
  {
   "cell_type": "code",
   "execution_count": 17,
   "metadata": {},
   "outputs": [
    {
     "name": "stdout",
     "output_type": "stream",
     "text": [
      "Insertion of 2000000 samples:\n",
      "  0.025682 seconds (20 allocations: 17.001 MiB)\n",
      "elapsed time (ns): 25681733\n",
      "bytes allocated:   17826496\n",
      "pool allocs:       6\n",
      "non-pool GC allocs:9\n",
      "malloc() calls:    1\n",
      "realloc() calls:   4\n",
      "Sampling of 10000 batches:\n",
      "  0.014975 seconds (10.00 k allocations: 4.730 MiB)\n",
      "elapsed time (ns): 14975079\n",
      "bytes allocated:   4960000\n",
      "pool allocs:       10000\n",
      "Insertion of 2000000 samples:\n",
      "  0.032196 seconds (1 allocation: 16.000 MiB)\n",
      "elapsed time (ns): 32195624\n",
      "bytes allocated:   16777216\n",
      "realloc() calls:   1\n",
      "Sampling of 10000 batches:\n",
      "  0.012500 seconds (10.00 k allocations: 4.730 MiB)\n",
      "elapsed time (ns): 12499507\n",
      "bytes allocated:   4960000\n",
      "pool allocs:       10000\n"
     ]
    }
   ],
   "source": [
    "# without tqdm\n",
    "memory = ReplayBuffer1(replay_buffer_size)\n",
    "test_insertion_timev(memory, nb_samples, t)\n",
    "test_sampling_timev(memory, nb_batches)\n",
    "test_insertion_timev(memory, nb_samples, t)\n",
    "test_sampling_timev(memory, nb_batches)"
   ]
  },
  {
   "cell_type": "code",
   "execution_count": 18,
   "metadata": {},
   "outputs": [
    {
     "name": "stdout",
     "output_type": "stream",
     "text": [
      "Insertion of 2000000 samples:\n",
      "  0.037837 seconds (1 allocation: 0 bytes)\n",
      "elapsed time (ns): 37836858\n",
      "realloc() calls:   1\n",
      "Sampling of 10000 batches:\n",
      "  0.015089 seconds (10.00 k allocations: 4.730 MiB)\n",
      "elapsed time (ns): 15088945\n",
      "bytes allocated:   4960000\n",
      "pool allocs:       10000\n"
     ]
    },
    {
     "name": "stderr",
     "output_type": "stream",
     "text": [
      "\n",
      "\r",
      "  0%|                                              | 0/2000000 [00:00<?, ?it/s]\r",
      "  5%|█▍                            | 99036/2000000 [00:00<00:01, 990356.22it/s]\r",
      " 10%|██▊                          | 196522/2000000 [00:00<00:01, 985650.46it/s]\r",
      " 14%|███▉                         | 271300/2000000 [00:00<00:01, 891773.40it/s]\r",
      " 19%|█████▍                       | 378640/2000000 [00:00<00:01, 939460.91it/s]\r",
      " 24%|███████                      | 484397/2000000 [00:00<00:01, 972025.97it/s]\r",
      " 30%|████████▋                    | 596932/2000000 [00:00<00:01, 914469.10it/s]\r",
      " 35%|██████████                   | 695369/2000000 [00:00<00:01, 934373.28it/s]\r",
      " 40%|███████████▋                 | 809836/2000000 [00:00<00:01, 988874.03it/s]\r",
      " 46%|████████████▉               | 925862/2000000 [00:00<00:01, 1034724.57it/s]\r",
      " 51%|██████████████▍             | 1027172/2000000 [00:01<00:01, 897265.81it/s]\r",
      " 57%|███████████████▉            | 1139845/2000000 [00:01<00:00, 955651.92it/s]\r",
      " 62%|█████████████████▍          | 1246721/2000000 [00:01<00:00, 986985.80it/s]\r",
      " 67%|██████████████████▊         | 1347263/2000000 [00:01<00:00, 814775.48it/s]\r",
      " 73%|████████████████████▎       | 1454355/2000000 [00:01<00:00, 877758.32it/s]\r",
      " 78%|█████████████████████▊      | 1560076/2000000 [00:01<00:00, 924853.61it/s]\r",
      " 83%|███████████████████████▏    | 1657280/2000000 [00:01<00:00, 794701.06it/s]\r",
      " 89%|████████████████████████▊   | 1770879/2000000 [00:01<00:00, 873421.80it/s]\r",
      " 94%|██████████████████████████▏ | 1871185/2000000 [00:02<00:00, 908651.88it/s]\r",
      " 98%|███████████████████████████▌| 1967268/2000000 [00:02<00:00, 879215.15it/s]\r",
      "100%|████████████████████████████| 2000000/2000000 [00:02<00:00, 918697.14it/s]\n",
      "\r",
      "  0%|                                                | 0/10000 [00:00<?, ?it/s]\r",
      "100%|████████████████████████████████| 10000/10000 [00:00<00:00, 276829.82it/s]"
     ]
    }
   ],
   "source": [
    "# with untyped transitions\n",
    "memory = ReplayBuffer1(replay_buffer_size)\n",
    "test_insertion_tqdm(memory, nb_samples, tbad)\n",
    "test_sampling_tqdm(memory, nb_batches)\n",
    "test_insertion_timev(memory, nb_samples, tbad)\n",
    "test_sampling_timev(memory, nb_batches)"
   ]
  },
  {
   "cell_type": "code",
   "execution_count": 19,
   "metadata": {},
   "outputs": [
    {
     "name": "stdout",
     "output_type": "stream",
     "text": [
      "Insertion of 2000000 samples:\n",
      "  0.002682 seconds\n",
      "elapsed time (ns): 2681918\n",
      "Sampling of 10000 batches:\n",
      "  0.012090 seconds (10.00 k allocations: 4.730 MiB)\n",
      "elapsed time (ns): 12089850\n",
      "bytes allocated:   4960000\n",
      "pool allocs:       10000\n"
     ]
    },
    {
     "name": "stderr",
     "output_type": "stream",
     "text": [
      "\n",
      "\r",
      "  0%|                                              | 0/2000000 [00:00<?, ?it/s]\r",
      "  5%|█▍                          | 103729/2000000 [00:00<00:01, 1037288.52it/s]\r",
      "  9%|██▌                          | 175673/2000000 [00:00<00:01, 915895.23it/s]\r",
      " 14%|████▏                        | 285855/2000000 [00:00<00:01, 964730.72it/s]\r",
      " 19%|█████▌                       | 385247/2000000 [00:00<00:01, 973304.80it/s]\r",
      " 25%|██████▉                     | 493332/2000000 [00:00<00:01, 1003251.65it/s]\r",
      " 29%|████████▍                    | 577701/2000000 [00:00<00:01, 930389.36it/s]\r",
      " 34%|█████████▉                   | 686759/2000000 [00:00<00:01, 973276.54it/s]\r",
      " 40%|███████████▏                | 803194/2000000 [00:00<00:01, 1023671.89it/s]\r",
      " 45%|█████████████                | 901660/2000000 [00:00<00:01, 921958.39it/s]\r",
      " 50%|██████████████              | 1007935/2000000 [00:01<00:01, 960116.49it/s]\r",
      " 56%|███████████████▏           | 1124220/2000000 [00:01<00:00, 1013102.83it/s]\r",
      " 61%|█████████████████▏          | 1228869/2000000 [00:01<00:00, 942719.45it/s]\r",
      " 67%|██████████████████▋         | 1332913/2000000 [00:01<00:00, 970051.28it/s]\r",
      " 72%|████████████████████        | 1436571/2000000 [00:01<00:00, 989093.87it/s]\r",
      " 78%|████████████████████▉      | 1554062/2000000 [00:01<00:00, 1038356.93it/s]\r",
      " 83%|███████████████████████▏    | 1659204/2000000 [00:01<00:00, 961083.47it/s]\r",
      " 89%|███████████████████████▉   | 1777008/2000000 [00:01<00:00, 1017287.26it/s]\r",
      " 94%|█████████████████████████▍ | 1885717/2000000 [00:01<00:00, 1037262.98it/s]\r",
      "100%|███████████████████████████▉| 1991170/2000000 [00:02<00:00, 954095.06it/s]\r",
      "100%|████████████████████████████| 2000000/2000000 [00:02<00:00, 983392.68it/s]\n",
      "\r",
      "  0%|                                                | 0/10000 [00:00<?, ?it/s]\r",
      "100%|████████████████████████████████| 10000/10000 [00:00<00:00, 409888.20it/s]"
     ]
    }
   ],
   "source": [
    "memory = ReplayBuffer2(replay_buffer_size)\n",
    "test_insertion_tqdm(memory, nb_samples, t)\n",
    "test_sampling_tqdm(memory, nb_batches)\n",
    "test_insertion_timev(memory, nb_samples, t)\n",
    "test_sampling_timev(memory, nb_batches)"
   ]
  },
  {
   "cell_type": "code",
   "execution_count": 20,
   "metadata": {},
   "outputs": [
    {
     "name": "stdout",
     "output_type": "stream",
     "text": [
      "Insertion of 2000000 samples:\n",
      "  0.003688 seconds\n",
      "elapsed time (ns): 3687722\n",
      "Sampling of 10000 batches:\n",
      "  0.014673 seconds (10.00 k allocations: 4.730 MiB)\n",
      "elapsed time (ns): 14672556\n",
      "bytes allocated:   4960000\n",
      "pool allocs:       10000\n",
      "Insertion of 2000000 samples:\n",
      "  0.003341 seconds\n",
      "elapsed time (ns): 3341376\n",
      "Sampling of 10000 batches:\n",
      "  0.022213 seconds (10.00 k allocations: 4.730 MiB)\n",
      "elapsed time (ns): 22212982\n",
      "bytes allocated:   4960000\n",
      "pool allocs:       10000\n"
     ]
    }
   ],
   "source": [
    "# without tqdm\n",
    "memory = ReplayBuffer2(replay_buffer_size)\n",
    "test_insertion_timev(memory, nb_samples, t)\n",
    "test_sampling_timev(memory, nb_batches)\n",
    "test_insertion_timev(memory, nb_samples, t)\n",
    "test_sampling_timev(memory, nb_batches)"
   ]
  },
  {
   "cell_type": "code",
   "execution_count": 21,
   "metadata": {},
   "outputs": [
    {
     "name": "stdout",
     "output_type": "stream",
     "text": [
      "Insertion of 2000000 samples:\n",
      "  0.003395 seconds\n",
      "elapsed time (ns): 3395242\n",
      "Sampling of 10000 batches:\n",
      "  0.023782 seconds (10.00 k allocations: 4.730 MiB)\n",
      "elapsed time (ns): 23781751\n",
      "bytes allocated:   4960000\n",
      "pool allocs:       10000\n"
     ]
    },
    {
     "name": "stderr",
     "output_type": "stream",
     "text": [
      "\n",
      "\r",
      "  0%|                                              | 0/2000000 [00:00<?, ?it/s]\r",
      "  5%|█▍                            | 99892/2000000 [00:00<00:01, 998918.57it/s]\r",
      " 10%|██▊                          | 193885/2000000 [00:00<00:01, 980446.06it/s]\r",
      " 15%|████▏                       | 301226/2000000 [00:00<00:01, 1006596.95it/s]\r",
      " 18%|█████▎                       | 367885/2000000 [00:00<00:01, 873006.42it/s]\r",
      " 24%|██████▉                      | 476205/2000000 [00:00<00:01, 926969.26it/s]\r",
      " 30%|████████▌                    | 591874/2000000 [00:00<00:01, 985694.30it/s]\r",
      " 35%|█████████▊                  | 697174/2000000 [00:00<00:01, 1004964.51it/s]\r",
      " 40%|███████████▍                 | 791833/2000000 [00:00<00:01, 927861.96it/s]\r",
      " 45%|█████████████▏               | 909298/2000000 [00:00<00:01, 990277.31it/s]\r",
      " 51%|█████████████▊             | 1021203/2000000 [00:01<00:00, 1025684.26it/s]\r",
      " 56%|███████████████▋            | 1123479/2000000 [00:01<00:00, 928925.17it/s]\r",
      " 62%|█████████████████▎          | 1235315/2000000 [00:01<00:00, 978654.26it/s]\r",
      " 68%|██████████████████▎        | 1353353/2000000 [00:01<00:00, 1031540.02it/s]\r",
      " 73%|████████████████████▍       | 1458522/2000000 [00:01<00:00, 808626.85it/s]\r",
      " 77%|█████████████████████▋      | 1549343/2000000 [00:01<00:00, 836128.81it/s]\r",
      " 82%|██████████████████████▉     | 1639411/2000000 [00:01<00:00, 817798.56it/s]\r",
      " 87%|████████████████████████▍   | 1743301/2000000 [00:01<00:00, 873572.58it/s]\r",
      " 92%|█████████████████████████▋  | 1834940/2000000 [00:01<00:00, 840391.02it/s]\r",
      " 97%|███████████████████████████▏| 1944331/2000000 [00:02<00:00, 903184.99it/s]\r",
      "100%|████████████████████████████| 2000000/2000000 [00:02<00:00, 933432.23it/s]\n",
      "\r",
      "  0%|                                                | 0/10000 [00:00<?, ?it/s]\r",
      "100%|████████████████████████████████| 10000/10000 [00:00<00:00, 394397.96it/s]"
     ]
    }
   ],
   "source": [
    "# with untyped transitions\n",
    "memory = ReplayBuffer2(replay_buffer_size)\n",
    "test_insertion_tqdm(memory, nb_samples, tbad)\n",
    "test_sampling_tqdm(memory, nb_batches)\n",
    "test_insertion_timev(memory, nb_samples, tbad)\n",
    "test_sampling_timev(memory, nb_batches)"
   ]
  },
  {
   "cell_type": "code",
   "execution_count": 22,
   "metadata": {},
   "outputs": [
    {
     "name": "stdout",
     "output_type": "stream",
     "text": [
      "Insertion of 2000000 samples:\n",
      "  0.011384 seconds\n",
      "elapsed time (ns): 11383516\n",
      "Sampling of 10000 batches:\n",
      "  0.041396 seconds (40.00 k allocations: 9.918 MiB)\n",
      "elapsed time (ns): 41395613\n",
      "bytes allocated:   10400000\n",
      "pool allocs:       40000\n"
     ]
    },
    {
     "name": "stderr",
     "output_type": "stream",
     "text": [
      "\n",
      "\r",
      "  0%|                                              | 0/2000000 [00:00<?, ?it/s]\r",
      "  5%|█▍                            | 95077/2000000 [00:00<00:02, 950764.11it/s]\r",
      " 10%|██▉                          | 201263/2000000 [00:00<00:01, 981572.50it/s]\r",
      " 15%|████▍                        | 304922/2000000 [00:00<00:01, 997450.77it/s]\r",
      " 19%|█████▍                       | 373574/2000000 [00:00<00:01, 878134.87it/s]\r",
      " 24%|██████▉                      | 482473/2000000 [00:00<00:01, 932287.02it/s]\r",
      " 30%|████████▋                    | 596944/2000000 [00:00<00:01, 987246.29it/s]\r",
      " 35%|██████████▏                  | 703155/2000000 [00:00<00:01, 914117.95it/s]\r",
      " 41%|███████████▉                 | 820244/2000000 [00:00<00:01, 978491.54it/s]\r",
      " 46%|█████████████▎               | 918046/2000000 [00:00<00:01, 978349.61it/s]\r",
      " 51%|██████████████▎             | 1022260/2000000 [00:01<00:00, 996649.64it/s]\r",
      " 56%|███████████████▋            | 1121003/2000000 [00:01<00:00, 887664.34it/s]\r",
      " 61%|█████████████████▏          | 1225582/2000000 [00:01<00:00, 929841.06it/s]\r",
      " 66%|██████████████████▍         | 1320191/2000000 [00:01<00:00, 863279.33it/s]\r",
      " 71%|███████████████████▊        | 1410929/2000000 [00:01<00:00, 876050.58it/s]\r",
      " 75%|█████████████████████       | 1500043/2000000 [00:01<00:01, 494830.51it/s]\r",
      " 78%|█████████████████████▉      | 1569789/2000000 [00:01<00:00, 516626.71it/s]\r",
      " 82%|██████████████████████▉     | 1641167/2000000 [00:02<00:00, 563303.27it/s]\r",
      " 86%|████████████████████████    | 1715588/2000000 [00:02<00:00, 607610.52it/s]\r",
      " 89%|████████████████████████▉   | 1785291/2000000 [00:02<00:00, 408408.85it/s]\r",
      " 93%|██████████████████████████  | 1859101/2000000 [00:02<00:00, 471604.63it/s]\r",
      " 97%|███████████████████████████▏| 1941702/2000000 [00:02<00:00, 541264.04it/s]\r",
      "100%|████████████████████████████| 2000000/2000000 [00:02<00:00, 702350.25it/s]\n",
      "\r",
      "  0%|                                                | 0/10000 [00:00<?, ?it/s]\r",
      " 56%|███████████████████               | 5606/10000 [00:00<00:00, 56058.05it/s]\r",
      "100%|█████████████████████████████████| 10000/10000 [00:00<00:00, 53387.64it/s]"
     ]
    }
   ],
   "source": [
    "memory = ReplayBuffer3(replay_buffer_size)\n",
    "test_insertion_tqdm(memory, nb_samples, t)\n",
    "test_sampling_tqdm(memory, nb_batches)\n",
    "test_insertion_timev(memory, nb_samples, t)\n",
    "test_sampling_timev(memory, nb_batches)"
   ]
  },
  {
   "cell_type": "code",
   "execution_count": 23,
   "metadata": {},
   "outputs": [
    {
     "name": "stdout",
     "output_type": "stream",
     "text": [
      "Insertion of 2000000 samples:\n",
      "  0.014940 seconds\n",
      "elapsed time (ns): 14940080\n",
      "Sampling of 10000 batches:\n",
      "  0.048817 seconds (40.00 k allocations: 9.918 MiB)\n",
      "elapsed time (ns): 48817220\n",
      "bytes allocated:   10400000\n",
      "pool allocs:       40000\n",
      "Insertion of 2000000 samples:\n",
      "  0.010601 seconds\n",
      "elapsed time (ns): 10600678\n",
      "Sampling of 10000 batches:\n",
      "  0.053972 seconds (40.00 k allocations: 9.918 MiB, 34.19% gc time)\n",
      "elapsed time (ns): 53971604\n",
      "gc time (ns):      18454133\n",
      "bytes allocated:   10400000\n",
      "pool allocs:       40000\n",
      "GC pauses:         1\n"
     ]
    }
   ],
   "source": [
    "# without tqdm\n",
    "memory = ReplayBuffer3(replay_buffer_size)\n",
    "test_insertion_timev(memory, nb_samples, t)\n",
    "test_sampling_timev(memory, nb_batches)\n",
    "test_insertion_timev(memory, nb_samples, t)\n",
    "test_sampling_timev(memory, nb_batches)"
   ]
  },
  {
   "cell_type": "code",
   "execution_count": 24,
   "metadata": {},
   "outputs": [
    {
     "name": "stdout",
     "output_type": "stream",
     "text": [
      "Insertion of 2000000 samples:\n",
      "  0.007042 seconds\n",
      "elapsed time (ns): 7041657\n",
      "Sampling of 10000 batches:\n",
      "  0.038978 seconds (40.00 k allocations: 9.918 MiB)\n",
      "elapsed time (ns): 38977791\n",
      "bytes allocated:   10400000\n",
      "pool allocs:       40000\n"
     ]
    },
    {
     "name": "stderr",
     "output_type": "stream",
     "text": [
      "\n",
      "\r",
      "  0%|                                              | 0/2000000 [00:00<?, ?it/s]\r",
      "  4%|█                             | 71313/2000000 [00:00<00:02, 713128.98it/s]\r",
      "  7%|█▉                           | 133366/2000000 [00:00<00:02, 682571.49it/s]\r",
      " 10%|██▉                          | 200506/2000000 [00:00<00:02, 679179.44it/s]\r",
      " 14%|████                         | 281973/2000000 [00:00<00:02, 624734.81it/s]\r",
      " 17%|████▊                        | 332665/2000000 [00:00<00:02, 584011.82it/s]\r",
      " 20%|█████▋                       | 395511/2000000 [00:00<00:02, 596656.17it/s]\r",
      " 23%|██████▌                      | 454592/2000000 [00:00<00:02, 594889.52it/s]\r",
      " 26%|███████▌                     | 517902/2000000 [00:00<00:02, 605856.28it/s]\r",
      " 30%|████████▌                    | 592191/2000000 [00:00<00:02, 641346.18it/s]\r",
      " 33%|█████████▍                   | 654365/2000000 [00:01<00:02, 546141.84it/s]\r",
      " 36%|██████████▍                  | 721601/2000000 [00:01<00:02, 578733.64it/s]\r",
      " 39%|███████████▍                 | 785008/2000000 [00:01<00:02, 594292.09it/s]\r",
      " 43%|████████████▍                | 855401/2000000 [00:01<00:01, 623421.45it/s]\r",
      " 47%|█████████████▌               | 938660/2000000 [00:01<00:01, 674230.82it/s]\r",
      " 50%|██████████████              | 1008030/2000000 [00:01<00:01, 535359.90it/s]\r",
      " 54%|███████████████             | 1077283/2000000 [00:01<00:01, 574472.45it/s]\r",
      " 57%|████████████████            | 1148458/2000000 [00:01<00:01, 609744.83it/s]\r",
      " 61%|█████████████████           | 1216837/2000000 [00:02<00:01, 630202.01it/s]\r",
      " 64%|█████████████████▉          | 1282852/2000000 [00:02<00:01, 637073.36it/s]\r",
      " 68%|██████████████████▉         | 1350447/2000000 [00:02<00:01, 648256.07it/s]\r",
      " 71%|███████████████████▊        | 1416801/2000000 [00:02<00:01, 523119.61it/s]\r",
      " 75%|█████████████████████       | 1507801/2000000 [00:02<00:00, 599593.11it/s]\r",
      " 79%|██████████████████████      | 1575188/2000000 [00:02<00:00, 601957.56it/s]\r",
      " 82%|██████████████████████▉     | 1640586/2000000 [00:02<00:00, 608379.88it/s]\r",
      " 85%|███████████████████████▊    | 1705082/2000000 [00:02<00:00, 613270.41it/s]\r",
      " 88%|████████████████████████▊   | 1768979/2000000 [00:02<00:00, 562813.85it/s]\r",
      " 93%|█████████████████████████▉  | 1852691/2000000 [00:03<00:00, 624171.64it/s]\r",
      " 97%|███████████████████████████ | 1935616/2000000 [00:03<00:00, 674186.90it/s]\r",
      "100%|████████████████████████████| 2000000/2000000 [00:03<00:00, 622423.90it/s]\n",
      "\r",
      "  0%|                                                | 0/10000 [00:00<?, ?it/s]\r",
      " 62%|█████████████████████             | 6194/10000 [00:00<00:00, 48703.59it/s]\r",
      "100%|█████████████████████████████████| 10000/10000 [00:00<00:00, 71794.70it/s]"
     ]
    }
   ],
   "source": [
    "# with untyped transitions\n",
    "memory = ReplayBuffer3(replay_buffer_size)\n",
    "test_insertion_tqdm(memory, nb_samples, tbad)\n",
    "test_sampling_tqdm(memory, nb_batches)\n",
    "test_insertion_timev(memory, nb_samples, tbad)\n",
    "test_sampling_timev(memory, nb_batches)"
   ]
  }
 ],
 "metadata": {
  "kernelspec": {
   "display_name": "Julia 1.3.1",
   "language": "julia",
   "name": "julia-1.3"
  },
  "language_info": {
   "file_extension": ".jl",
   "mimetype": "application/julia",
   "name": "julia",
   "version": "1.3.1"
  }
 },
 "nbformat": 4,
 "nbformat_minor": 2
}
