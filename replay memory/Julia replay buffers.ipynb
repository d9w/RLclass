{
 "cells": [
  {
   "cell_type": "code",
   "execution_count": 1,
   "metadata": {},
   "outputs": [],
   "source": [
    "using PyCall"
   ]
  },
  {
   "cell_type": "code",
   "execution_count": 2,
   "metadata": {},
   "outputs": [
    {
     "data": {
      "text/plain": [
       "PyObject <module 'gym' from '/home/d9w/.julia/conda/3/lib/python3.7/site-packages/gym/__init__.py'>"
      ]
     },
     "execution_count": 2,
     "metadata": {},
     "output_type": "execute_result"
    }
   ],
   "source": [
    "gym = pyimport(\"gym\")"
   ]
  },
  {
   "cell_type": "code",
   "execution_count": 3,
   "metadata": {},
   "outputs": [
    {
     "data": {
      "text/plain": [
       "PyObject <TimeLimit<CartPoleEnv<CartPole-v1>>>"
      ]
     },
     "execution_count": 3,
     "metadata": {},
     "output_type": "execute_result"
    }
   ],
   "source": [
    "cartpole = gym.make(\"CartPole-v1\")"
   ]
  },
  {
   "cell_type": "code",
   "execution_count": 4,
   "metadata": {},
   "outputs": [
    {
     "data": {
      "text/plain": [
       "([0.007897900672134911, 0.1712120802856951, -0.04306554378875549, -0.3142409407529665], 1.0, false, Dict{Any,Any}())"
      ]
     },
     "execution_count": 4,
     "metadata": {},
     "output_type": "execute_result"
    }
   ],
   "source": [
    "state = cartpole.reset()\n",
    "action = cartpole.action_space.sample()\n",
    "next_state, reward, done, _ = cartpole.step(action)"
   ]
  },
  {
   "cell_type": "code",
   "execution_count": 5,
   "metadata": {},
   "outputs": [
    {
     "data": {
      "text/plain": [
       "(Array{Float64,1}, Int64, Float64, Array{Float64,1})"
      ]
     },
     "execution_count": 5,
     "metadata": {},
     "output_type": "execute_result"
    }
   ],
   "source": [
    "typeof(state), typeof(action), typeof(reward), typeof(next_state)"
   ]
  },
  {
   "cell_type": "code",
   "execution_count": 6,
   "metadata": {},
   "outputs": [
    {
     "data": {
      "text/plain": [
       "50"
      ]
     },
     "execution_count": 6,
     "metadata": {},
     "output_type": "execute_result"
    }
   ],
   "source": [
    "replay_buffer_size = Int(1e6)\n",
    "nb_samples = Int(2e6)\n",
    "nb_batches = Int(1e4)\n",
    "batch_size = 50"
   ]
  },
  {
   "cell_type": "code",
   "execution_count": 7,
   "metadata": {},
   "outputs": [],
   "source": [
    "abstract type Buffer end"
   ]
  },
  {
   "cell_type": "code",
   "execution_count": 8,
   "metadata": {},
   "outputs": [],
   "source": [
    "struct Transition\n",
    "    state::Array{Float64}\n",
    "    action::Int64\n",
    "    reward::Float64\n",
    "    next_state::Array{Float64}\n",
    "end"
   ]
  },
  {
   "cell_type": "code",
   "execution_count": 9,
   "metadata": {},
   "outputs": [
    {
     "data": {
      "text/plain": [
       "Transition([0.008387860821805662, -0.02449800748353751, -0.04289879348189916, -0.008337515342816536], 1, 1.0, [0.007897900672134911, 0.1712120802856951, -0.04306554378875549, -0.3142409407529665])"
      ]
     },
     "execution_count": 9,
     "metadata": {},
     "output_type": "execute_result"
    }
   ],
   "source": [
    "t = Transition(state, action, reward, next_state)"
   ]
  },
  {
   "cell_type": "code",
   "execution_count": 10,
   "metadata": {},
   "outputs": [
    {
     "data": {
      "text/plain": [
       "test_sampling_tqdm (generic function with 1 method)"
      ]
     },
     "execution_count": 10,
     "metadata": {},
     "output_type": "execute_result"
    }
   ],
   "source": [
    "tqdm = pyimport(\"tqdm\")\n",
    "\n",
    "function test_insertion_tqdm(buffer::Buffer, nb_samples::Int, transition::Transition)\n",
    "    state = cartpole.reset()\n",
    "    for _ in tqdm.trange(nb_samples)\n",
    "        append(buffer, transition)\n",
    "    end\n",
    "end\n",
    "\n",
    "function test_sampling_tqdm(buffer::Buffer, nb_batches::Int)\n",
    "    for _ in tqdm.trange(nb_samples)\n",
    "        sample(buffer, batch_size)\n",
    "    end\n",
    "end"
   ]
  },
  {
   "cell_type": "code",
   "execution_count": 11,
   "metadata": {},
   "outputs": [
    {
     "data": {
      "text/plain": [
       "test_sampling_timev (generic function with 1 method)"
      ]
     },
     "execution_count": 11,
     "metadata": {},
     "output_type": "execute_result"
    }
   ],
   "source": [
    "function test_insertion_timev(buffer::Buffer, nb_samples::Int, transition::Transition)\n",
    "    println(\"Insertion of \", nb_samples, \" samples:\")\n",
    "    @timev for i in 1:nb_samples\n",
    "        append(buffer, transition)\n",
    "    end\n",
    "end\n",
    "\n",
    "function test_sampling_timev(buffer::Buffer, nb_batches::Int)\n",
    "    println(\"Sampling of \", nb_samples, \" batches:\")\n",
    "    @timev for i in 1:nb_batches\n",
    "        sample(buffer, batch_size)\n",
    "    end\n",
    "end  "
   ]
  },
  {
   "cell_type": "code",
   "execution_count": 12,
   "metadata": {},
   "outputs": [
    {
     "data": {
      "text/plain": [
       "sample (generic function with 1 method)"
      ]
     },
     "execution_count": 12,
     "metadata": {},
     "output_type": "execute_result"
    }
   ],
   "source": [
    "struct ReplayBuffer1 <: Buffer\n",
    "    data::Array{Transition}\n",
    "    capacity::Int64\n",
    "end\n",
    "\n",
    "function ReplayBuffer1(capacity::Int64)\n",
    "    ReplayBuffer1(Array{Transition}(undef, 0), capacity)\n",
    "end\n",
    "\n",
    "function append(buffer::ReplayBuffer1, t::Transition)\n",
    "    if length(buffer.data) < buffer.capacity\n",
    "        push!(buffer.data, t)\n",
    "    end    \n",
    "end\n",
    "\n",
    "function sample(buffer::ReplayBuffer1, batch_size::Int)\n",
    "    rand(buffer.data, batch_size)\n",
    "end"
   ]
  },
  {
   "cell_type": "code",
   "execution_count": 13,
   "metadata": {},
   "outputs": [
    {
     "name": "stdout",
     "output_type": "stream",
     "text": [
      "Insertion of 2000000 samples:\n",
      "  0.005091 seconds\n",
      "elapsed time (ns): 5091034\n",
      "Sampling of "
     ]
    },
    {
     "name": "stderr",
     "output_type": "stream",
     "text": [
      "\r",
      "  0%|                                              | 0/2000000 [00:00<?, ?it/s]\r",
      "  4%|█▏                            | 75208/2000000 [00:00<00:02, 752078.92it/s]\r",
      "  9%|██▍                          | 170305/2000000 [00:00<00:02, 802425.28it/s]\r",
      " 13%|███▊                         | 260538/2000000 [00:00<00:02, 829992.60it/s]\r",
      " 17%|████▊                        | 333351/2000000 [00:00<00:02, 796561.44it/s]\r",
      " 22%|██████▍                      | 441049/2000000 [00:00<00:01, 864053.61it/s]\r",
      " 27%|███████▊                     | 541883/2000000 [00:00<00:01, 902808.39it/s]\r",
      " 31%|█████████                    | 625380/2000000 [00:00<00:01, 833272.12it/s]\r",
      " 36%|██████████▌                  | 726106/2000000 [00:00<00:01, 878806.49it/s]\r",
      " 42%|████████████▏                | 838411/2000000 [00:00<00:01, 940143.44it/s]\r",
      " 48%|█████████████▊               | 950709/2000000 [00:01<00:01, 988421.67it/s]\r",
      " 53%|██████████████▋             | 1050105/2000000 [00:01<00:01, 878707.85it/s]\r",
      " 58%|████████████████▏           | 1159816/2000000 [00:01<00:00, 934517.42it/s]\r",
      " 64%|█████████████████▊          | 1275163/2000000 [00:01<00:00, 990946.00it/s]\r",
      " 69%|███████████████████▎        | 1377159/2000000 [00:01<00:00, 844574.72it/s]\r",
      " 73%|████████████████████▌       | 1467399/2000000 [00:01<00:00, 785267.67it/s]\r",
      " 78%|█████████████████████▋      | 1550809/2000000 [00:01<00:00, 696321.58it/s]\r",
      " 81%|██████████████████████▊     | 1625719/2000000 [00:01<00:00, 623500.52it/s]\r",
      " 85%|███████████████████████▋    | 1693192/2000000 [00:02<00:00, 372973.07it/s]\r",
      " 89%|████████████████████████▉   | 1778081/2000000 [00:02<00:00, 448386.39it/s]\r",
      " 93%|██████████████████████████  | 1857281/2000000 [00:02<00:00, 515479.33it/s]\r",
      " 96%|██████████████████████████▉ | 1924841/2000000 [00:02<00:00, 550443.41it/s]\r",
      "100%|████████████████████████████| 2000000/2000000 [00:02<00:00, 741025.43it/s]\n",
      "\r",
      "  0%|                                              | 0/2000000 [00:00<?, ?it/s]\r",
      "  0%|                                   | 2/2000000 [00:00<29:22:14, 18.92it/s]\r",
      "  2%|▌                              | 37204/2000000 [00:00<20:10:38, 27.02it/s]\r",
      "  3%|█                              | 69008/2000000 [00:00<13:53:45, 38.60it/s]\r",
      "  5%|█▋                             | 107126/2000000 [00:00<9:32:07, 55.14it/s]\r",
      "  7%|██▏                            | 141522/2000000 [00:00<6:33:14, 78.77it/s]\r",
      "  9%|██▊                           | 184625/2000000 [00:00<4:28:54, 112.52it/s]\r",
      " 11%|███▎                          | 220478/2000000 [00:00<3:04:32, 160.72it/s]\r",
      " 13%|███▉                          | 260075/2000000 [00:00<2:06:19, 229.55it/s]\r",
      " 15%|████▍                         | 295672/2000000 [00:00<1:26:38, 327.84it/s]\r",
      " 17%|█████▎                          | 330615/2000000 [00:01<59:29, 467.65it/s]\r",
      " 19%|█████▉                          | 370024/2000000 [00:01<40:41, 667.74it/s]\r",
      " 20%|██████▍                         | 400963/2000000 [00:01<27:58, 952.89it/s]\r",
      " 22%|██████▋                        | 430599/2000000 [00:01<19:15, 1358.35it/s]\r",
      " 23%|███████                        | 457050/2000000 [00:01<13:17, 1935.31it/s]\r",
      " 25%|███████▋                       | 495610/2000000 [00:01<09:05, 2758.80it/s]\r",
      " 27%|████████▏                      | 531233/2000000 [00:01<06:13, 3928.10it/s]\r",
      " 29%|████████▊                      | 571206/2000000 [00:02<04:15, 5588.04it/s]\r",
      " 30%|█████████▍                     | 604933/2000000 [00:02<02:56, 7923.39it/s]\r",
      " 32%|█████████▋                    | 645357/2000000 [00:02<02:00, 11224.83it/s]\r",
      " 34%|██████████▎                   | 686142/2000000 [00:02<01:22, 15848.54it/s]\r",
      " 36%|██████████▉                   | 726753/2000000 [00:02<00:57, 22268.33it/s]\r",
      " 38%|███████████▍                  | 764822/2000000 [00:02<00:39, 31010.74it/s]\r",
      " 40%|████████████                  | 805449/2000000 [00:02<00:27, 42897.71it/s]\r",
      " 42%|████████████▋                 | 846641/2000000 [00:02<00:19, 58664.14it/s]\r",
      " 44%|█████████████▎                | 886018/2000000 [00:02<00:14, 78273.31it/s]\r",
      " 46%|█████████████▊                | 924253/2000000 [00:03<00:10, 99830.97it/s]\r",
      " 48%|█████████████▉               | 963943/2000000 [00:03<00:08, 128737.78it/s]\r",
      " 50%|██████████████              | 1008467/2000000 [00:03<00:06, 163632.97it/s]\r",
      " 52%|██████████████▋             | 1047380/2000000 [00:03<00:04, 196614.23it/s]\r",
      " 55%|███████████████▎            | 1091562/2000000 [00:03<00:03, 235886.94it/s]\r",
      " 57%|███████████████▊            | 1131678/2000000 [00:03<00:03, 260508.63it/s]\r",
      " 59%|████████████████▍           | 1171977/2000000 [00:03<00:02, 291411.72it/s]\r",
      " 61%|████████████████▉           | 1212941/2000000 [00:03<00:02, 319034.24it/s]\r",
      " 63%|█████████████████▌          | 1252514/2000000 [00:03<00:02, 332138.05it/s]\r",
      " 65%|██████████████████          | 1291236/2000000 [00:03<00:02, 331304.68it/s]\r",
      " 66%|██████████████████▌         | 1328223/2000000 [00:04<00:01, 341176.81it/s]\r",
      " 69%|███████████████████▏        | 1372538/2000000 [00:04<00:01, 366472.34it/s]\r",
      " 71%|███████████████████▊        | 1414319/2000000 [00:04<00:01, 380497.85it/s]\r",
      " 73%|████████████████████▍       | 1460563/2000000 [00:04<00:01, 401859.51it/s]\r",
      " 75%|█████████████████████       | 1502378/2000000 [00:04<00:01, 347886.35it/s]\r",
      " 77%|█████████████████████▌      | 1542565/2000000 [00:04<00:01, 362492.16it/s]\r",
      " 79%|██████████████████████▏     | 1587555/2000000 [00:04<00:01, 384924.64it/s]\r",
      " 81%|██████████████████████▊     | 1627727/2000000 [00:04<00:00, 381756.04it/s]\r",
      " 83%|███████████████████████▎    | 1669629/2000000 [00:04<00:00, 392218.23it/s]\r",
      " 85%|███████████████████████▉    | 1709750/2000000 [00:05<00:00, 391005.16it/s]\r",
      " 87%|████████████████████████▍   | 1749935/2000000 [00:05<00:00, 394194.55it/s]\r",
      " 89%|█████████████████████████   | 1789802/2000000 [00:05<00:00, 376735.29it/s]\r",
      " 92%|█████████████████████████▋  | 1832436/2000000 [00:05<00:00, 386105.59it/s]\r",
      " 94%|██████████████████████████▏ | 1873173/2000000 [00:05<00:00, 392246.60it/s]\r",
      " 96%|██████████████████████████▊ | 1912696/2000000 [00:05<00:00, 385699.04it/s]\r",
      " 98%|███████████████████████████▍| 1957197/2000000 [00:05<00:00, 401762.47it/s]\r",
      "100%|███████████████████████████▉| 1997710/2000000 [00:05<00:00, 394070.69it/s]\r",
      "100%|████████████████████████████| 2000000/2000000 [00:05<00:00, 345489.75it/s]"
     ]
    },
    {
     "name": "stdout",
     "output_type": "stream",
     "text": [
      "2000000 batches:\n",
      "  0.018513 seconds (10.00 k allocations: 4.730 MiB)\n",
      "elapsed time (ns): 18512566\n",
      "bytes allocated:   4960000\n",
      "pool allocs:       10000\n"
     ]
    }
   ],
   "source": [
    "memory = ReplayBuffer1(replay_buffer_size)\n",
    "test_insertion_tqdm(memory, nb_samples, t)\n",
    "test_sampling_tqdm(memory, nb_batches)\n",
    "# buffer is already full for the next tests?\n",
    "#memory = ReplayBuffer1(replay_buffer_size)\n",
    "test_insertion_timev(memory, nb_samples, t)\n",
    "test_sampling_timev(memory, nb_batches)"
   ]
  },
  {
   "cell_type": "code",
   "execution_count": null,
   "metadata": {},
   "outputs": [],
   "source": []
  }
 ],
 "metadata": {
  "kernelspec": {
   "display_name": "Julia 1.3.1",
   "language": "julia",
   "name": "julia-1.3"
  },
  "language_info": {
   "file_extension": ".jl",
   "mimetype": "application/julia",
   "name": "julia",
   "version": "1.3.1"
  }
 },
 "nbformat": 4,
 "nbformat_minor": 2
}
